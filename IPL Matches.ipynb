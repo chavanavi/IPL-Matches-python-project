{
 "cells": [
  {
   "cell_type": "code",
   "execution_count": 1,
   "id": "fixed-audience",
   "metadata": {},
   "outputs": [],
   "source": [
    "import pandas as pd \n",
    "import numpy as np \n",
    "import matplotlib.pyplot as plt \n",
    "import seaborn as sns"
   ]
  },
  {
   "cell_type": "code",
   "execution_count": 2,
   "id": "conceptual-audience",
   "metadata": {},
   "outputs": [],
   "source": [
    "df=pd.read_csv(\"IPL Matches 2008-2020.csv\")"
   ]
  },
  {
   "cell_type": "markdown",
   "id": "executed-matter",
   "metadata": {},
   "source": [
    "# viewing  top 5 row of the dataset\n"
   ]
  },
  {
   "cell_type": "code",
   "execution_count": 3,
   "id": "intellectual-fighter",
   "metadata": {},
   "outputs": [
    {
     "data": {
      "text/html": [
       "<div>\n",
       "<style scoped>\n",
       "    .dataframe tbody tr th:only-of-type {\n",
       "        vertical-align: middle;\n",
       "    }\n",
       "\n",
       "    .dataframe tbody tr th {\n",
       "        vertical-align: top;\n",
       "    }\n",
       "\n",
       "    .dataframe thead th {\n",
       "        text-align: right;\n",
       "    }\n",
       "</style>\n",
       "<table border=\"1\" class=\"dataframe\">\n",
       "  <thead>\n",
       "    <tr style=\"text-align: right;\">\n",
       "      <th></th>\n",
       "      <th>id</th>\n",
       "      <th>city</th>\n",
       "      <th>date</th>\n",
       "      <th>player_of_match</th>\n",
       "      <th>venue</th>\n",
       "      <th>neutral_venue</th>\n",
       "      <th>team1</th>\n",
       "      <th>team2</th>\n",
       "      <th>toss_winner</th>\n",
       "      <th>toss_decision</th>\n",
       "      <th>winner</th>\n",
       "      <th>result</th>\n",
       "      <th>result_margin</th>\n",
       "      <th>eliminator</th>\n",
       "      <th>method</th>\n",
       "      <th>umpire1</th>\n",
       "      <th>umpire2</th>\n",
       "    </tr>\n",
       "  </thead>\n",
       "  <tbody>\n",
       "    <tr>\n",
       "      <th>0</th>\n",
       "      <td>335982</td>\n",
       "      <td>Bangalore</td>\n",
       "      <td>2008-04-18</td>\n",
       "      <td>BB McCullum</td>\n",
       "      <td>M Chinnaswamy Stadium</td>\n",
       "      <td>0</td>\n",
       "      <td>Royal Challengers Bangalore</td>\n",
       "      <td>Kolkata Knight Riders</td>\n",
       "      <td>Royal Challengers Bangalore</td>\n",
       "      <td>field</td>\n",
       "      <td>Kolkata Knight Riders</td>\n",
       "      <td>runs</td>\n",
       "      <td>140.0</td>\n",
       "      <td>N</td>\n",
       "      <td>NaN</td>\n",
       "      <td>Asad Rauf</td>\n",
       "      <td>RE Koertzen</td>\n",
       "    </tr>\n",
       "    <tr>\n",
       "      <th>1</th>\n",
       "      <td>335983</td>\n",
       "      <td>Chandigarh</td>\n",
       "      <td>2008-04-19</td>\n",
       "      <td>MEK Hussey</td>\n",
       "      <td>Punjab Cricket Association Stadium, Mohali</td>\n",
       "      <td>0</td>\n",
       "      <td>Kings XI Punjab</td>\n",
       "      <td>Chennai Super Kings</td>\n",
       "      <td>Chennai Super Kings</td>\n",
       "      <td>bat</td>\n",
       "      <td>Chennai Super Kings</td>\n",
       "      <td>runs</td>\n",
       "      <td>33.0</td>\n",
       "      <td>N</td>\n",
       "      <td>NaN</td>\n",
       "      <td>MR Benson</td>\n",
       "      <td>SL Shastri</td>\n",
       "    </tr>\n",
       "    <tr>\n",
       "      <th>2</th>\n",
       "      <td>335984</td>\n",
       "      <td>Delhi</td>\n",
       "      <td>2008-04-19</td>\n",
       "      <td>MF Maharoof</td>\n",
       "      <td>Feroz Shah Kotla</td>\n",
       "      <td>0</td>\n",
       "      <td>Delhi Daredevils</td>\n",
       "      <td>Rajasthan Royals</td>\n",
       "      <td>Rajasthan Royals</td>\n",
       "      <td>bat</td>\n",
       "      <td>Delhi Daredevils</td>\n",
       "      <td>wickets</td>\n",
       "      <td>9.0</td>\n",
       "      <td>N</td>\n",
       "      <td>NaN</td>\n",
       "      <td>Aleem Dar</td>\n",
       "      <td>GA Pratapkumar</td>\n",
       "    </tr>\n",
       "    <tr>\n",
       "      <th>3</th>\n",
       "      <td>335985</td>\n",
       "      <td>Mumbai</td>\n",
       "      <td>2008-04-20</td>\n",
       "      <td>MV Boucher</td>\n",
       "      <td>Wankhede Stadium</td>\n",
       "      <td>0</td>\n",
       "      <td>Mumbai Indians</td>\n",
       "      <td>Royal Challengers Bangalore</td>\n",
       "      <td>Mumbai Indians</td>\n",
       "      <td>bat</td>\n",
       "      <td>Royal Challengers Bangalore</td>\n",
       "      <td>wickets</td>\n",
       "      <td>5.0</td>\n",
       "      <td>N</td>\n",
       "      <td>NaN</td>\n",
       "      <td>SJ Davis</td>\n",
       "      <td>DJ Harper</td>\n",
       "    </tr>\n",
       "    <tr>\n",
       "      <th>4</th>\n",
       "      <td>335986</td>\n",
       "      <td>Kolkata</td>\n",
       "      <td>2008-04-20</td>\n",
       "      <td>DJ Hussey</td>\n",
       "      <td>Eden Gardens</td>\n",
       "      <td>0</td>\n",
       "      <td>Kolkata Knight Riders</td>\n",
       "      <td>Deccan Chargers</td>\n",
       "      <td>Deccan Chargers</td>\n",
       "      <td>bat</td>\n",
       "      <td>Kolkata Knight Riders</td>\n",
       "      <td>wickets</td>\n",
       "      <td>5.0</td>\n",
       "      <td>N</td>\n",
       "      <td>NaN</td>\n",
       "      <td>BF Bowden</td>\n",
       "      <td>K Hariharan</td>\n",
       "    </tr>\n",
       "  </tbody>\n",
       "</table>\n",
       "</div>"
      ],
      "text/plain": [
       "       id        city        date player_of_match  \\\n",
       "0  335982   Bangalore  2008-04-18     BB McCullum   \n",
       "1  335983  Chandigarh  2008-04-19      MEK Hussey   \n",
       "2  335984       Delhi  2008-04-19     MF Maharoof   \n",
       "3  335985      Mumbai  2008-04-20      MV Boucher   \n",
       "4  335986     Kolkata  2008-04-20       DJ Hussey   \n",
       "\n",
       "                                        venue  neutral_venue  \\\n",
       "0                       M Chinnaswamy Stadium              0   \n",
       "1  Punjab Cricket Association Stadium, Mohali              0   \n",
       "2                            Feroz Shah Kotla              0   \n",
       "3                            Wankhede Stadium              0   \n",
       "4                                Eden Gardens              0   \n",
       "\n",
       "                         team1                        team2  \\\n",
       "0  Royal Challengers Bangalore        Kolkata Knight Riders   \n",
       "1              Kings XI Punjab          Chennai Super Kings   \n",
       "2             Delhi Daredevils             Rajasthan Royals   \n",
       "3               Mumbai Indians  Royal Challengers Bangalore   \n",
       "4        Kolkata Knight Riders              Deccan Chargers   \n",
       "\n",
       "                   toss_winner toss_decision                       winner  \\\n",
       "0  Royal Challengers Bangalore         field        Kolkata Knight Riders   \n",
       "1          Chennai Super Kings           bat          Chennai Super Kings   \n",
       "2             Rajasthan Royals           bat             Delhi Daredevils   \n",
       "3               Mumbai Indians           bat  Royal Challengers Bangalore   \n",
       "4              Deccan Chargers           bat        Kolkata Knight Riders   \n",
       "\n",
       "    result  result_margin eliminator method    umpire1         umpire2  \n",
       "0     runs          140.0          N    NaN  Asad Rauf     RE Koertzen  \n",
       "1     runs           33.0          N    NaN  MR Benson      SL Shastri  \n",
       "2  wickets            9.0          N    NaN  Aleem Dar  GA Pratapkumar  \n",
       "3  wickets            5.0          N    NaN   SJ Davis       DJ Harper  \n",
       "4  wickets            5.0          N    NaN  BF Bowden     K Hariharan  "
      ]
     },
     "execution_count": 3,
     "metadata": {},
     "output_type": "execute_result"
    }
   ],
   "source": [
    "df.head(5)"
   ]
  },
  {
   "cell_type": "markdown",
   "id": "continental-communications",
   "metadata": {},
   "source": [
    "# INFORMATION OF THE FILE"
   ]
  },
  {
   "cell_type": "code",
   "execution_count": 4,
   "id": "renewable-decrease",
   "metadata": {},
   "outputs": [
    {
     "name": "stdout",
     "output_type": "stream",
     "text": [
      "<class 'pandas.core.frame.DataFrame'>\n",
      "RangeIndex: 816 entries, 0 to 815\n",
      "Data columns (total 17 columns):\n",
      " #   Column           Non-Null Count  Dtype  \n",
      "---  ------           --------------  -----  \n",
      " 0   id               816 non-null    int64  \n",
      " 1   city             803 non-null    object \n",
      " 2   date             816 non-null    object \n",
      " 3   player_of_match  812 non-null    object \n",
      " 4   venue            816 non-null    object \n",
      " 5   neutral_venue    816 non-null    int64  \n",
      " 6   team1            816 non-null    object \n",
      " 7   team2            816 non-null    object \n",
      " 8   toss_winner      816 non-null    object \n",
      " 9   toss_decision    816 non-null    object \n",
      " 10  winner           812 non-null    object \n",
      " 11  result           812 non-null    object \n",
      " 12  result_margin    799 non-null    float64\n",
      " 13  eliminator       812 non-null    object \n",
      " 14  method           19 non-null     object \n",
      " 15  umpire1          816 non-null    object \n",
      " 16  umpire2          816 non-null    object \n",
      "dtypes: float64(1), int64(2), object(14)\n",
      "memory usage: 108.5+ KB\n"
     ]
    }
   ],
   "source": [
    "df.info()"
   ]
  },
  {
   "cell_type": "markdown",
   "id": "miniature-music",
   "metadata": {},
   "source": [
    "# Descriptrion the file "
   ]
  },
  {
   "cell_type": "code",
   "execution_count": 5,
   "id": "allied-journey",
   "metadata": {},
   "outputs": [
    {
     "data": {
      "text/html": [
       "<div>\n",
       "<style scoped>\n",
       "    .dataframe tbody tr th:only-of-type {\n",
       "        vertical-align: middle;\n",
       "    }\n",
       "\n",
       "    .dataframe tbody tr th {\n",
       "        vertical-align: top;\n",
       "    }\n",
       "\n",
       "    .dataframe thead th {\n",
       "        text-align: right;\n",
       "    }\n",
       "</style>\n",
       "<table border=\"1\" class=\"dataframe\">\n",
       "  <thead>\n",
       "    <tr style=\"text-align: right;\">\n",
       "      <th></th>\n",
       "      <th>id</th>\n",
       "      <th>neutral_venue</th>\n",
       "      <th>result_margin</th>\n",
       "    </tr>\n",
       "  </thead>\n",
       "  <tbody>\n",
       "    <tr>\n",
       "      <th>count</th>\n",
       "      <td>8.160000e+02</td>\n",
       "      <td>816.000000</td>\n",
       "      <td>799.000000</td>\n",
       "    </tr>\n",
       "    <tr>\n",
       "      <th>mean</th>\n",
       "      <td>7.563496e+05</td>\n",
       "      <td>0.094363</td>\n",
       "      <td>17.321652</td>\n",
       "    </tr>\n",
       "    <tr>\n",
       "      <th>std</th>\n",
       "      <td>3.058943e+05</td>\n",
       "      <td>0.292512</td>\n",
       "      <td>22.068427</td>\n",
       "    </tr>\n",
       "    <tr>\n",
       "      <th>min</th>\n",
       "      <td>3.359820e+05</td>\n",
       "      <td>0.000000</td>\n",
       "      <td>1.000000</td>\n",
       "    </tr>\n",
       "    <tr>\n",
       "      <th>25%</th>\n",
       "      <td>5.012278e+05</td>\n",
       "      <td>0.000000</td>\n",
       "      <td>6.000000</td>\n",
       "    </tr>\n",
       "    <tr>\n",
       "      <th>50%</th>\n",
       "      <td>7.292980e+05</td>\n",
       "      <td>0.000000</td>\n",
       "      <td>8.000000</td>\n",
       "    </tr>\n",
       "    <tr>\n",
       "      <th>75%</th>\n",
       "      <td>1.082626e+06</td>\n",
       "      <td>0.000000</td>\n",
       "      <td>19.500000</td>\n",
       "    </tr>\n",
       "    <tr>\n",
       "      <th>max</th>\n",
       "      <td>1.237181e+06</td>\n",
       "      <td>1.000000</td>\n",
       "      <td>146.000000</td>\n",
       "    </tr>\n",
       "  </tbody>\n",
       "</table>\n",
       "</div>"
      ],
      "text/plain": [
       "                 id  neutral_venue  result_margin\n",
       "count  8.160000e+02     816.000000     799.000000\n",
       "mean   7.563496e+05       0.094363      17.321652\n",
       "std    3.058943e+05       0.292512      22.068427\n",
       "min    3.359820e+05       0.000000       1.000000\n",
       "25%    5.012278e+05       0.000000       6.000000\n",
       "50%    7.292980e+05       0.000000       8.000000\n",
       "75%    1.082626e+06       0.000000      19.500000\n",
       "max    1.237181e+06       1.000000     146.000000"
      ]
     },
     "execution_count": 5,
     "metadata": {},
     "output_type": "execute_result"
    }
   ],
   "source": [
    "df.describe()"
   ]
  },
  {
   "cell_type": "markdown",
   "id": "earlier-atlantic",
   "metadata": {},
   "source": [
    "# VIEWING NaN values"
   ]
  },
  {
   "cell_type": "code",
   "execution_count": 6,
   "id": "undefined-plumbing",
   "metadata": {},
   "outputs": [
    {
     "data": {
      "text/plain": [
       "id                   0\n",
       "city                13\n",
       "date                 0\n",
       "player_of_match      4\n",
       "venue                0\n",
       "neutral_venue        0\n",
       "team1                0\n",
       "team2                0\n",
       "toss_winner          0\n",
       "toss_decision        0\n",
       "winner               4\n",
       "result               4\n",
       "result_margin       17\n",
       "eliminator           4\n",
       "method             797\n",
       "umpire1              0\n",
       "umpire2              0\n",
       "dtype: int64"
      ]
     },
     "execution_count": 6,
     "metadata": {},
     "output_type": "execute_result"
    }
   ],
   "source": [
    "df.isna().sum()"
   ]
  },
  {
   "cell_type": "markdown",
   "id": "municipal-intersection",
   "metadata": {},
   "source": [
    "# Filling all nan va;lues  and Deleting columns "
   ]
  },
  {
   "cell_type": "code",
   "execution_count": 7,
   "id": "boolean-paradise",
   "metadata": {},
   "outputs": [],
   "source": [
    "df=df.drop(\"method\",axis=1)"
   ]
  },
  {
   "cell_type": "code",
   "execution_count": 8,
   "id": "adverse-playlist",
   "metadata": {},
   "outputs": [],
   "source": [
    "df=df.fillna(method=\"bfill\")"
   ]
  },
  {
   "cell_type": "code",
   "execution_count": 9,
   "id": "recognized-athletics",
   "metadata": {},
   "outputs": [
    {
     "data": {
      "text/plain": [
       "id                 0\n",
       "city               0\n",
       "date               0\n",
       "player_of_match    0\n",
       "venue              0\n",
       "neutral_venue      0\n",
       "team1              0\n",
       "team2              0\n",
       "toss_winner        0\n",
       "toss_decision      0\n",
       "winner             0\n",
       "result             0\n",
       "result_margin      0\n",
       "eliminator         0\n",
       "umpire1            0\n",
       "umpire2            0\n",
       "dtype: int64"
      ]
     },
     "execution_count": 9,
     "metadata": {},
     "output_type": "execute_result"
    }
   ],
   "source": [
    "df.isna().sum()"
   ]
  },
  {
   "cell_type": "markdown",
   "id": "allied-chest",
   "metadata": {},
   "source": [
    "# creating  a team columns which is not in the given data set "
   ]
  },
  {
   "cell_type": "code",
   "execution_count": 10,
   "id": "taken-affiliation",
   "metadata": {},
   "outputs": [],
   "source": [
    "df[\"team\"]=(df[\"team1\"]+\"&\"+df[\"team2\"])"
   ]
  },
  {
   "cell_type": "code",
   "execution_count": 11,
   "id": "distant-athletics",
   "metadata": {},
   "outputs": [
    {
     "data": {
      "text/html": [
       "<div>\n",
       "<style scoped>\n",
       "    .dataframe tbody tr th:only-of-type {\n",
       "        vertical-align: middle;\n",
       "    }\n",
       "\n",
       "    .dataframe tbody tr th {\n",
       "        vertical-align: top;\n",
       "    }\n",
       "\n",
       "    .dataframe thead th {\n",
       "        text-align: right;\n",
       "    }\n",
       "</style>\n",
       "<table border=\"1\" class=\"dataframe\">\n",
       "  <thead>\n",
       "    <tr style=\"text-align: right;\">\n",
       "      <th></th>\n",
       "      <th>id</th>\n",
       "      <th>city</th>\n",
       "      <th>date</th>\n",
       "      <th>player_of_match</th>\n",
       "      <th>venue</th>\n",
       "      <th>neutral_venue</th>\n",
       "      <th>team1</th>\n",
       "      <th>team2</th>\n",
       "      <th>toss_winner</th>\n",
       "      <th>toss_decision</th>\n",
       "      <th>winner</th>\n",
       "      <th>result</th>\n",
       "      <th>result_margin</th>\n",
       "      <th>eliminator</th>\n",
       "      <th>umpire1</th>\n",
       "      <th>umpire2</th>\n",
       "      <th>team</th>\n",
       "    </tr>\n",
       "  </thead>\n",
       "  <tbody>\n",
       "    <tr>\n",
       "      <th>0</th>\n",
       "      <td>335982</td>\n",
       "      <td>Bangalore</td>\n",
       "      <td>2008-04-18</td>\n",
       "      <td>BB McCullum</td>\n",
       "      <td>M Chinnaswamy Stadium</td>\n",
       "      <td>0</td>\n",
       "      <td>Royal Challengers Bangalore</td>\n",
       "      <td>Kolkata Knight Riders</td>\n",
       "      <td>Royal Challengers Bangalore</td>\n",
       "      <td>field</td>\n",
       "      <td>Kolkata Knight Riders</td>\n",
       "      <td>runs</td>\n",
       "      <td>140.0</td>\n",
       "      <td>N</td>\n",
       "      <td>Asad Rauf</td>\n",
       "      <td>RE Koertzen</td>\n",
       "      <td>Royal Challengers Bangalore&amp;Kolkata Knight Riders</td>\n",
       "    </tr>\n",
       "    <tr>\n",
       "      <th>1</th>\n",
       "      <td>335983</td>\n",
       "      <td>Chandigarh</td>\n",
       "      <td>2008-04-19</td>\n",
       "      <td>MEK Hussey</td>\n",
       "      <td>Punjab Cricket Association Stadium, Mohali</td>\n",
       "      <td>0</td>\n",
       "      <td>Kings XI Punjab</td>\n",
       "      <td>Chennai Super Kings</td>\n",
       "      <td>Chennai Super Kings</td>\n",
       "      <td>bat</td>\n",
       "      <td>Chennai Super Kings</td>\n",
       "      <td>runs</td>\n",
       "      <td>33.0</td>\n",
       "      <td>N</td>\n",
       "      <td>MR Benson</td>\n",
       "      <td>SL Shastri</td>\n",
       "      <td>Kings XI Punjab&amp;Chennai Super Kings</td>\n",
       "    </tr>\n",
       "    <tr>\n",
       "      <th>2</th>\n",
       "      <td>335984</td>\n",
       "      <td>Delhi</td>\n",
       "      <td>2008-04-19</td>\n",
       "      <td>MF Maharoof</td>\n",
       "      <td>Feroz Shah Kotla</td>\n",
       "      <td>0</td>\n",
       "      <td>Delhi Daredevils</td>\n",
       "      <td>Rajasthan Royals</td>\n",
       "      <td>Rajasthan Royals</td>\n",
       "      <td>bat</td>\n",
       "      <td>Delhi Daredevils</td>\n",
       "      <td>wickets</td>\n",
       "      <td>9.0</td>\n",
       "      <td>N</td>\n",
       "      <td>Aleem Dar</td>\n",
       "      <td>GA Pratapkumar</td>\n",
       "      <td>Delhi Daredevils&amp;Rajasthan Royals</td>\n",
       "    </tr>\n",
       "    <tr>\n",
       "      <th>3</th>\n",
       "      <td>335985</td>\n",
       "      <td>Mumbai</td>\n",
       "      <td>2008-04-20</td>\n",
       "      <td>MV Boucher</td>\n",
       "      <td>Wankhede Stadium</td>\n",
       "      <td>0</td>\n",
       "      <td>Mumbai Indians</td>\n",
       "      <td>Royal Challengers Bangalore</td>\n",
       "      <td>Mumbai Indians</td>\n",
       "      <td>bat</td>\n",
       "      <td>Royal Challengers Bangalore</td>\n",
       "      <td>wickets</td>\n",
       "      <td>5.0</td>\n",
       "      <td>N</td>\n",
       "      <td>SJ Davis</td>\n",
       "      <td>DJ Harper</td>\n",
       "      <td>Mumbai Indians&amp;Royal Challengers Bangalore</td>\n",
       "    </tr>\n",
       "    <tr>\n",
       "      <th>4</th>\n",
       "      <td>335986</td>\n",
       "      <td>Kolkata</td>\n",
       "      <td>2008-04-20</td>\n",
       "      <td>DJ Hussey</td>\n",
       "      <td>Eden Gardens</td>\n",
       "      <td>0</td>\n",
       "      <td>Kolkata Knight Riders</td>\n",
       "      <td>Deccan Chargers</td>\n",
       "      <td>Deccan Chargers</td>\n",
       "      <td>bat</td>\n",
       "      <td>Kolkata Knight Riders</td>\n",
       "      <td>wickets</td>\n",
       "      <td>5.0</td>\n",
       "      <td>N</td>\n",
       "      <td>BF Bowden</td>\n",
       "      <td>K Hariharan</td>\n",
       "      <td>Kolkata Knight Riders&amp;Deccan Chargers</td>\n",
       "    </tr>\n",
       "  </tbody>\n",
       "</table>\n",
       "</div>"
      ],
      "text/plain": [
       "       id        city        date player_of_match  \\\n",
       "0  335982   Bangalore  2008-04-18     BB McCullum   \n",
       "1  335983  Chandigarh  2008-04-19      MEK Hussey   \n",
       "2  335984       Delhi  2008-04-19     MF Maharoof   \n",
       "3  335985      Mumbai  2008-04-20      MV Boucher   \n",
       "4  335986     Kolkata  2008-04-20       DJ Hussey   \n",
       "\n",
       "                                        venue  neutral_venue  \\\n",
       "0                       M Chinnaswamy Stadium              0   \n",
       "1  Punjab Cricket Association Stadium, Mohali              0   \n",
       "2                            Feroz Shah Kotla              0   \n",
       "3                            Wankhede Stadium              0   \n",
       "4                                Eden Gardens              0   \n",
       "\n",
       "                         team1                        team2  \\\n",
       "0  Royal Challengers Bangalore        Kolkata Knight Riders   \n",
       "1              Kings XI Punjab          Chennai Super Kings   \n",
       "2             Delhi Daredevils             Rajasthan Royals   \n",
       "3               Mumbai Indians  Royal Challengers Bangalore   \n",
       "4        Kolkata Knight Riders              Deccan Chargers   \n",
       "\n",
       "                   toss_winner toss_decision                       winner  \\\n",
       "0  Royal Challengers Bangalore         field        Kolkata Knight Riders   \n",
       "1          Chennai Super Kings           bat          Chennai Super Kings   \n",
       "2             Rajasthan Royals           bat             Delhi Daredevils   \n",
       "3               Mumbai Indians           bat  Royal Challengers Bangalore   \n",
       "4              Deccan Chargers           bat        Kolkata Knight Riders   \n",
       "\n",
       "    result  result_margin eliminator    umpire1         umpire2  \\\n",
       "0     runs          140.0          N  Asad Rauf     RE Koertzen   \n",
       "1     runs           33.0          N  MR Benson      SL Shastri   \n",
       "2  wickets            9.0          N  Aleem Dar  GA Pratapkumar   \n",
       "3  wickets            5.0          N   SJ Davis       DJ Harper   \n",
       "4  wickets            5.0          N  BF Bowden     K Hariharan   \n",
       "\n",
       "                                                team  \n",
       "0  Royal Challengers Bangalore&Kolkata Knight Riders  \n",
       "1                Kings XI Punjab&Chennai Super Kings  \n",
       "2                  Delhi Daredevils&Rajasthan Royals  \n",
       "3         Mumbai Indians&Royal Challengers Bangalore  \n",
       "4              Kolkata Knight Riders&Deccan Chargers  "
      ]
     },
     "execution_count": 11,
     "metadata": {},
     "output_type": "execute_result"
    }
   ],
   "source": [
    "df.head()"
   ]
  },
  {
   "cell_type": "markdown",
   "id": "million-packing",
   "metadata": {},
   "source": [
    "# heres the most common players who got players of the mach  "
   ]
  },
  {
   "cell_type": "code",
   "execution_count": 12,
   "id": "loaded-chaos",
   "metadata": {},
   "outputs": [
    {
     "data": {
      "text/plain": [
       "AB de Villiers       23\n",
       "CH Gayle             23\n",
       "MS Dhoni             18\n",
       "RG Sharma            18\n",
       "DA Warner            17\n",
       "                     ..\n",
       "TG Southee            1\n",
       "Mustafizur Rahman     1\n",
       "JC Archer             1\n",
       "SM Katich             1\n",
       "MJ Lumb               1\n",
       "Name: player_of_match, Length: 233, dtype: int64"
      ]
     },
     "execution_count": 12,
     "metadata": {},
     "output_type": "execute_result"
    }
   ],
   "source": [
    "df[\"player_of_match\"].value_counts()"
   ]
  },
  {
   "cell_type": "markdown",
   "id": "peaceful-membership",
   "metadata": {},
   "source": [
    "# the players  who got players of the mach  maximum times"
   ]
  },
  {
   "cell_type": "code",
   "execution_count": 13,
   "id": "supported-employer",
   "metadata": {},
   "outputs": [
    {
     "data": {
      "text/plain": [
       "'AB de Villiers'"
      ]
     },
     "execution_count": 13,
     "metadata": {},
     "output_type": "execute_result"
    }
   ],
   "source": [
    "df[\"player_of_match\"].value_counts().idxmax()"
   ]
  },
  {
   "cell_type": "markdown",
   "id": "useful-potter",
   "metadata": {},
   "source": [
    "# the players  who got players of the match   least times"
   ]
  },
  {
   "cell_type": "code",
   "execution_count": 14,
   "id": "skilled-turtle",
   "metadata": {},
   "outputs": [
    {
     "data": {
      "text/plain": [
       "'SW Billings'"
      ]
     },
     "execution_count": 14,
     "metadata": {},
     "output_type": "execute_result"
    }
   ],
   "source": [
    "df[\"player_of_match\"].value_counts().idxmin()"
   ]
  },
  {
   "cell_type": "markdown",
   "id": "collectible-series",
   "metadata": {},
   "source": [
    "# Representation  of top 10 players who got  players  of the match "
   ]
  },
  {
   "cell_type": "code",
   "execution_count": 15,
   "id": "tutorial-mitchell",
   "metadata": {},
   "outputs": [
    {
     "data": {
      "image/png": "[encoded data removed]",
      "text/plain": [
       "<Figure size 504x504 with 1 Axes>"
      ]
     },
     "metadata": {
      "needs_background": "light"
     },
     "output_type": "display_data"
    }
   ],
   "source": [
    "plt.figure(figsize=(7,7))\n",
    "df[\"player_of_match\"].value_counts().nlargest(10).plot(kind=\"barh\")\n",
    "plt.title(\"players of match\")\n",
    "plt.xlabel(\"no of times\")\n",
    "plt.ylabel(\"players\")\n",
    "plt.show()"
   ]
  },
  {
   "cell_type": "markdown",
   "id": "intended-blair",
   "metadata": {},
   "source": [
    "# most common teams who got winned"
   ]
  },
  {
   "cell_type": "code",
   "execution_count": 16,
   "id": "prospective-recognition",
   "metadata": {},
   "outputs": [
    {
     "data": {
      "text/plain": [
       "Mumbai Indians                 121\n",
       "Chennai Super Kings            108\n",
       "Kolkata Knight Riders           99\n",
       "Royal Challengers Bangalore     92\n",
       "Kings XI Punjab                 88\n",
       "Rajasthan Royals                81\n",
       "Delhi Daredevils                67\n",
       "Sunrisers Hyderabad             66\n",
       "Deccan Chargers                 29\n",
       "Delhi Capitals                  19\n",
       "Gujarat Lions                   13\n",
       "Pune Warriors                   12\n",
       "Rising Pune Supergiant          10\n",
       "Kochi Tuskers Kerala             6\n",
       "Rising Pune Supergiants          5\n",
       "Name: winner, dtype: int64"
      ]
     },
     "execution_count": 16,
     "metadata": {},
     "output_type": "execute_result"
    }
   ],
   "source": [
    "df[\"winner\"].value_counts()"
   ]
  },
  {
   "cell_type": "markdown",
   "id": "loved-postcard",
   "metadata": {},
   "source": [
    "# the maqtch which  are tied"
   ]
  },
  {
   "cell_type": "code",
   "execution_count": 17,
   "id": "advance-donna",
   "metadata": {},
   "outputs": [
    {
     "data": {
      "text/html": [
       "<div>\n",
       "<style scoped>\n",
       "    .dataframe tbody tr th:only-of-type {\n",
       "        vertical-align: middle;\n",
       "    }\n",
       "\n",
       "    .dataframe tbody tr th {\n",
       "        vertical-align: top;\n",
       "    }\n",
       "\n",
       "    .dataframe thead th {\n",
       "        text-align: right;\n",
       "    }\n",
       "</style>\n",
       "<table border=\"1\" class=\"dataframe\">\n",
       "  <thead>\n",
       "    <tr style=\"text-align: right;\">\n",
       "      <th></th>\n",
       "      <th>id</th>\n",
       "      <th>city</th>\n",
       "      <th>date</th>\n",
       "      <th>player_of_match</th>\n",
       "      <th>venue</th>\n",
       "      <th>neutral_venue</th>\n",
       "      <th>team1</th>\n",
       "      <th>team2</th>\n",
       "      <th>toss_winner</th>\n",
       "      <th>toss_decision</th>\n",
       "      <th>winner</th>\n",
       "      <th>result</th>\n",
       "      <th>result_margin</th>\n",
       "      <th>eliminator</th>\n",
       "      <th>umpire1</th>\n",
       "      <th>umpire2</th>\n",
       "      <th>team</th>\n",
       "    </tr>\n",
       "  </thead>\n",
       "  <tbody>\n",
       "    <tr>\n",
       "      <th>66</th>\n",
       "      <td>392190</td>\n",
       "      <td>Cape Town</td>\n",
       "      <td>2009-04-23</td>\n",
       "      <td>YK Pathan</td>\n",
       "      <td>Newlands</td>\n",
       "      <td>1</td>\n",
       "      <td>Kolkata Knight Riders</td>\n",
       "      <td>Rajasthan Royals</td>\n",
       "      <td>Kolkata Knight Riders</td>\n",
       "      <td>field</td>\n",
       "      <td>Rajasthan Royals</td>\n",
       "      <td>tie</td>\n",
       "      <td>7.0</td>\n",
       "      <td>Y</td>\n",
       "      <td>MR Benson</td>\n",
       "      <td>M Erasmus</td>\n",
       "      <td>Kolkata Knight Riders&amp;Rajasthan Royals</td>\n",
       "    </tr>\n",
       "    <tr>\n",
       "      <th>130</th>\n",
       "      <td>419121</td>\n",
       "      <td>Chennai</td>\n",
       "      <td>2010-03-21</td>\n",
       "      <td>J Theron</td>\n",
       "      <td>MA Chidambaram Stadium, Chepauk</td>\n",
       "      <td>0</td>\n",
       "      <td>Chennai Super Kings</td>\n",
       "      <td>Kings XI Punjab</td>\n",
       "      <td>Chennai Super Kings</td>\n",
       "      <td>field</td>\n",
       "      <td>Kings XI Punjab</td>\n",
       "      <td>tie</td>\n",
       "      <td>7.0</td>\n",
       "      <td>Y</td>\n",
       "      <td>K Hariharan</td>\n",
       "      <td>DJ Harper</td>\n",
       "      <td>Chennai Super Kings&amp;Kings XI Punjab</td>\n",
       "    </tr>\n",
       "    <tr>\n",
       "      <th>328</th>\n",
       "      <td>598004</td>\n",
       "      <td>Hyderabad</td>\n",
       "      <td>2013-04-07</td>\n",
       "      <td>GH Vihari</td>\n",
       "      <td>Rajiv Gandhi International Stadium, Uppal</td>\n",
       "      <td>0</td>\n",
       "      <td>Sunrisers Hyderabad</td>\n",
       "      <td>Royal Challengers Bangalore</td>\n",
       "      <td>Royal Challengers Bangalore</td>\n",
       "      <td>bat</td>\n",
       "      <td>Sunrisers Hyderabad</td>\n",
       "      <td>tie</td>\n",
       "      <td>19.0</td>\n",
       "      <td>Y</td>\n",
       "      <td>AK Chaudhary</td>\n",
       "      <td>S Ravi</td>\n",
       "      <td>Sunrisers Hyderabad&amp;Royal Challengers Bangalore</td>\n",
       "    </tr>\n",
       "    <tr>\n",
       "      <th>341</th>\n",
       "      <td>598017</td>\n",
       "      <td>Bangalore</td>\n",
       "      <td>2013-04-16</td>\n",
       "      <td>V Kohli</td>\n",
       "      <td>M Chinnaswamy Stadium</td>\n",
       "      <td>0</td>\n",
       "      <td>Royal Challengers Bangalore</td>\n",
       "      <td>Delhi Daredevils</td>\n",
       "      <td>Royal Challengers Bangalore</td>\n",
       "      <td>field</td>\n",
       "      <td>Royal Challengers Bangalore</td>\n",
       "      <td>tie</td>\n",
       "      <td>11.0</td>\n",
       "      <td>Y</td>\n",
       "      <td>M Erasmus</td>\n",
       "      <td>VA Kulkarni</td>\n",
       "      <td>Royal Challengers Bangalore&amp;Delhi Daredevils</td>\n",
       "    </tr>\n",
       "    <tr>\n",
       "      <th>416</th>\n",
       "      <td>729315</td>\n",
       "      <td>Abu Dhabi</td>\n",
       "      <td>2014-04-29</td>\n",
       "      <td>JP Faulkner</td>\n",
       "      <td>Sheikh Zayed Stadium</td>\n",
       "      <td>1</td>\n",
       "      <td>Kolkata Knight Riders</td>\n",
       "      <td>Rajasthan Royals</td>\n",
       "      <td>Rajasthan Royals</td>\n",
       "      <td>bat</td>\n",
       "      <td>Rajasthan Royals</td>\n",
       "      <td>tie</td>\n",
       "      <td>15.0</td>\n",
       "      <td>Y</td>\n",
       "      <td>Aleem Dar</td>\n",
       "      <td>AK Chaudhary</td>\n",
       "      <td>Kolkata Knight Riders&amp;Rajasthan Royals</td>\n",
       "    </tr>\n",
       "    <tr>\n",
       "      <th>476</th>\n",
       "      <td>829741</td>\n",
       "      <td>Ahmedabad</td>\n",
       "      <td>2015-04-21</td>\n",
       "      <td>SE Marsh</td>\n",
       "      <td>Sardar Patel Stadium, Motera</td>\n",
       "      <td>0</td>\n",
       "      <td>Rajasthan Royals</td>\n",
       "      <td>Kings XI Punjab</td>\n",
       "      <td>Kings XI Punjab</td>\n",
       "      <td>field</td>\n",
       "      <td>Kings XI Punjab</td>\n",
       "      <td>tie</td>\n",
       "      <td>16.0</td>\n",
       "      <td>Y</td>\n",
       "      <td>M Erasmus</td>\n",
       "      <td>S Ravi</td>\n",
       "      <td>Rajasthan Royals&amp;Kings XI Punjab</td>\n",
       "    </tr>\n",
       "    <tr>\n",
       "      <th>610</th>\n",
       "      <td>1082625</td>\n",
       "      <td>Rajkot</td>\n",
       "      <td>2017-04-29</td>\n",
       "      <td>KH Pandya</td>\n",
       "      <td>Saurashtra Cricket Association Stadium</td>\n",
       "      <td>0</td>\n",
       "      <td>Gujarat Lions</td>\n",
       "      <td>Mumbai Indians</td>\n",
       "      <td>Gujarat Lions</td>\n",
       "      <td>bat</td>\n",
       "      <td>Mumbai Indians</td>\n",
       "      <td>tie</td>\n",
       "      <td>10.0</td>\n",
       "      <td>Y</td>\n",
       "      <td>AK Chaudhary</td>\n",
       "      <td>CB Gaffaney</td>\n",
       "      <td>Gujarat Lions&amp;Mumbai Indians</td>\n",
       "    </tr>\n",
       "    <tr>\n",
       "      <th>705</th>\n",
       "      <td>1175365</td>\n",
       "      <td>Delhi</td>\n",
       "      <td>2019-03-30</td>\n",
       "      <td>PP Shaw</td>\n",
       "      <td>Feroz Shah Kotla</td>\n",
       "      <td>0</td>\n",
       "      <td>Delhi Capitals</td>\n",
       "      <td>Kolkata Knight Riders</td>\n",
       "      <td>Delhi Capitals</td>\n",
       "      <td>field</td>\n",
       "      <td>Delhi Capitals</td>\n",
       "      <td>tie</td>\n",
       "      <td>118.0</td>\n",
       "      <td>Y</td>\n",
       "      <td>AY Dandekar</td>\n",
       "      <td>Nitin Menon</td>\n",
       "      <td>Delhi Capitals&amp;Kolkata Knight Riders</td>\n",
       "    </tr>\n",
       "    <tr>\n",
       "      <th>746</th>\n",
       "      <td>1178426</td>\n",
       "      <td>Mumbai</td>\n",
       "      <td>2019-05-02</td>\n",
       "      <td>JJ Bumrah</td>\n",
       "      <td>Wankhede Stadium</td>\n",
       "      <td>0</td>\n",
       "      <td>Mumbai Indians</td>\n",
       "      <td>Sunrisers Hyderabad</td>\n",
       "      <td>Mumbai Indians</td>\n",
       "      <td>bat</td>\n",
       "      <td>Mumbai Indians</td>\n",
       "      <td>tie</td>\n",
       "      <td>7.0</td>\n",
       "      <td>Y</td>\n",
       "      <td>CK Nandan</td>\n",
       "      <td>S Ravi</td>\n",
       "      <td>Mumbai Indians&amp;Sunrisers Hyderabad</td>\n",
       "    </tr>\n",
       "    <tr>\n",
       "      <th>757</th>\n",
       "      <td>1216493</td>\n",
       "      <td>Dubai</td>\n",
       "      <td>2020-09-20</td>\n",
       "      <td>MP Stoinis</td>\n",
       "      <td>Dubai International Cricket Stadium</td>\n",
       "      <td>0</td>\n",
       "      <td>Delhi Capitals</td>\n",
       "      <td>Kings XI Punjab</td>\n",
       "      <td>Kings XI Punjab</td>\n",
       "      <td>field</td>\n",
       "      <td>Delhi Capitals</td>\n",
       "      <td>tie</td>\n",
       "      <td>8.0</td>\n",
       "      <td>Y</td>\n",
       "      <td>AK Chaudhary</td>\n",
       "      <td>Nitin Menon</td>\n",
       "      <td>Delhi Capitals&amp;Kings XI Punjab</td>\n",
       "    </tr>\n",
       "    <tr>\n",
       "      <th>776</th>\n",
       "      <td>1216512</td>\n",
       "      <td>Abu Dhabi</td>\n",
       "      <td>2020-10-18</td>\n",
       "      <td>LH Ferguson</td>\n",
       "      <td>Sheikh Zayed Stadium</td>\n",
       "      <td>0</td>\n",
       "      <td>Kolkata Knight Riders</td>\n",
       "      <td>Sunrisers Hyderabad</td>\n",
       "      <td>Sunrisers Hyderabad</td>\n",
       "      <td>field</td>\n",
       "      <td>Kolkata Knight Riders</td>\n",
       "      <td>tie</td>\n",
       "      <td>10.0</td>\n",
       "      <td>Y</td>\n",
       "      <td>PG Pathak</td>\n",
       "      <td>S Ravi</td>\n",
       "      <td>Kolkata Knight Riders&amp;Sunrisers Hyderabad</td>\n",
       "    </tr>\n",
       "    <tr>\n",
       "      <th>781</th>\n",
       "      <td>1216517</td>\n",
       "      <td>Dubai</td>\n",
       "      <td>2020-10-18</td>\n",
       "      <td>KL Rahul</td>\n",
       "      <td>Dubai International Cricket Stadium</td>\n",
       "      <td>0</td>\n",
       "      <td>Mumbai Indians</td>\n",
       "      <td>Kings XI Punjab</td>\n",
       "      <td>Mumbai Indians</td>\n",
       "      <td>bat</td>\n",
       "      <td>Kings XI Punjab</td>\n",
       "      <td>tie</td>\n",
       "      <td>8.0</td>\n",
       "      <td>Y</td>\n",
       "      <td>Nitin Menon</td>\n",
       "      <td>PR Reiffel</td>\n",
       "      <td>Mumbai Indians&amp;Kings XI Punjab</td>\n",
       "    </tr>\n",
       "    <tr>\n",
       "      <th>811</th>\n",
       "      <td>1216547</td>\n",
       "      <td>Dubai</td>\n",
       "      <td>2020-09-28</td>\n",
       "      <td>AB de Villiers</td>\n",
       "      <td>Dubai International Cricket Stadium</td>\n",
       "      <td>0</td>\n",
       "      <td>Royal Challengers Bangalore</td>\n",
       "      <td>Mumbai Indians</td>\n",
       "      <td>Mumbai Indians</td>\n",
       "      <td>field</td>\n",
       "      <td>Royal Challengers Bangalore</td>\n",
       "      <td>tie</td>\n",
       "      <td>57.0</td>\n",
       "      <td>Y</td>\n",
       "      <td>Nitin Menon</td>\n",
       "      <td>PR Reiffel</td>\n",
       "      <td>Royal Challengers Bangalore&amp;Mumbai Indians</td>\n",
       "    </tr>\n",
       "  </tbody>\n",
       "</table>\n",
       "</div>"
      ],
      "text/plain": [
       "          id       city        date player_of_match  \\\n",
       "66    392190  Cape Town  2009-04-23       YK Pathan   \n",
       "130   419121    Chennai  2010-03-21        J Theron   \n",
       "328   598004  Hyderabad  2013-04-07       GH Vihari   \n",
       "341   598017  Bangalore  2013-04-16         V Kohli   \n",
       "416   729315  Abu Dhabi  2014-04-29     JP Faulkner   \n",
       "476   829741  Ahmedabad  2015-04-21        SE Marsh   \n",
       "610  1082625     Rajkot  2017-04-29       KH Pandya   \n",
       "705  1175365      Delhi  2019-03-30         PP Shaw   \n",
       "746  1178426     Mumbai  2019-05-02       JJ Bumrah   \n",
       "757  1216493      Dubai  2020-09-20      MP Stoinis   \n",
       "776  1216512  Abu Dhabi  2020-10-18     LH Ferguson   \n",
       "781  1216517      Dubai  2020-10-18        KL Rahul   \n",
       "811  1216547      Dubai  2020-09-28  AB de Villiers   \n",
       "\n",
       "                                         venue  neutral_venue  \\\n",
       "66                                    Newlands              1   \n",
       "130            MA Chidambaram Stadium, Chepauk              0   \n",
       "328  Rajiv Gandhi International Stadium, Uppal              0   \n",
       "341                      M Chinnaswamy Stadium              0   \n",
       "416                       Sheikh Zayed Stadium              1   \n",
       "476               Sardar Patel Stadium, Motera              0   \n",
       "610     Saurashtra Cricket Association Stadium              0   \n",
       "705                           Feroz Shah Kotla              0   \n",
       "746                           Wankhede Stadium              0   \n",
       "757        Dubai International Cricket Stadium              0   \n",
       "776                       Sheikh Zayed Stadium              0   \n",
       "781        Dubai International Cricket Stadium              0   \n",
       "811        Dubai International Cricket Stadium              0   \n",
       "\n",
       "                           team1                        team2  \\\n",
       "66         Kolkata Knight Riders             Rajasthan Royals   \n",
       "130          Chennai Super Kings              Kings XI Punjab   \n",
       "328          Sunrisers Hyderabad  Royal Challengers Bangalore   \n",
       "341  Royal Challengers Bangalore             Delhi Daredevils   \n",
       "416        Kolkata Knight Riders             Rajasthan Royals   \n",
       "476             Rajasthan Royals              Kings XI Punjab   \n",
       "610                Gujarat Lions               Mumbai Indians   \n",
       "705               Delhi Capitals        Kolkata Knight Riders   \n",
       "746               Mumbai Indians          Sunrisers Hyderabad   \n",
       "757               Delhi Capitals              Kings XI Punjab   \n",
       "776        Kolkata Knight Riders          Sunrisers Hyderabad   \n",
       "781               Mumbai Indians              Kings XI Punjab   \n",
       "811  Royal Challengers Bangalore               Mumbai Indians   \n",
       "\n",
       "                     toss_winner toss_decision                       winner  \\\n",
       "66         Kolkata Knight Riders         field             Rajasthan Royals   \n",
       "130          Chennai Super Kings         field              Kings XI Punjab   \n",
       "328  Royal Challengers Bangalore           bat          Sunrisers Hyderabad   \n",
       "341  Royal Challengers Bangalore         field  Royal Challengers Bangalore   \n",
       "416             Rajasthan Royals           bat             Rajasthan Royals   \n",
       "476              Kings XI Punjab         field              Kings XI Punjab   \n",
       "610                Gujarat Lions           bat               Mumbai Indians   \n",
       "705               Delhi Capitals         field               Delhi Capitals   \n",
       "746               Mumbai Indians           bat               Mumbai Indians   \n",
       "757              Kings XI Punjab         field               Delhi Capitals   \n",
       "776          Sunrisers Hyderabad         field        Kolkata Knight Riders   \n",
       "781               Mumbai Indians           bat              Kings XI Punjab   \n",
       "811               Mumbai Indians         field  Royal Challengers Bangalore   \n",
       "\n",
       "    result  result_margin eliminator       umpire1       umpire2  \\\n",
       "66     tie            7.0          Y     MR Benson     M Erasmus   \n",
       "130    tie            7.0          Y   K Hariharan     DJ Harper   \n",
       "328    tie           19.0          Y  AK Chaudhary        S Ravi   \n",
       "341    tie           11.0          Y     M Erasmus   VA Kulkarni   \n",
       "416    tie           15.0          Y     Aleem Dar  AK Chaudhary   \n",
       "476    tie           16.0          Y     M Erasmus        S Ravi   \n",
       "610    tie           10.0          Y  AK Chaudhary   CB Gaffaney   \n",
       "705    tie          118.0          Y   AY Dandekar   Nitin Menon   \n",
       "746    tie            7.0          Y     CK Nandan        S Ravi   \n",
       "757    tie            8.0          Y  AK Chaudhary   Nitin Menon   \n",
       "776    tie           10.0          Y     PG Pathak        S Ravi   \n",
       "781    tie            8.0          Y   Nitin Menon    PR Reiffel   \n",
       "811    tie           57.0          Y   Nitin Menon    PR Reiffel   \n",
       "\n",
       "                                                team  \n",
       "66            Kolkata Knight Riders&Rajasthan Royals  \n",
       "130              Chennai Super Kings&Kings XI Punjab  \n",
       "328  Sunrisers Hyderabad&Royal Challengers Bangalore  \n",
       "341     Royal Challengers Bangalore&Delhi Daredevils  \n",
       "416           Kolkata Knight Riders&Rajasthan Royals  \n",
       "476                 Rajasthan Royals&Kings XI Punjab  \n",
       "610                     Gujarat Lions&Mumbai Indians  \n",
       "705             Delhi Capitals&Kolkata Knight Riders  \n",
       "746               Mumbai Indians&Sunrisers Hyderabad  \n",
       "757                   Delhi Capitals&Kings XI Punjab  \n",
       "776        Kolkata Knight Riders&Sunrisers Hyderabad  \n",
       "781                   Mumbai Indians&Kings XI Punjab  \n",
       "811       Royal Challengers Bangalore&Mumbai Indians  "
      ]
     },
     "execution_count": 17,
     "metadata": {},
     "output_type": "execute_result"
    }
   ],
   "source": [
    "df[df[\"result\"]==\"tie\"]"
   ]
  },
  {
   "cell_type": "markdown",
   "id": "scenic-treaty",
   "metadata": {},
   "source": [
    "# Representation of winning teams in pie plot"
   ]
  },
  {
   "cell_type": "code",
   "execution_count": 18,
   "id": "final-deputy",
   "metadata": {},
   "outputs": [
    {
     "data": {
      "image/png": "[encoded data removed]",
      "text/plain": [
       "<Figure size 504x504 with 1 Axes>"
      ]
     },
     "metadata": {},
     "output_type": "display_data"
    }
   ],
   "source": [
    "plt.figure(figsize=(7,7))\n",
    "df[\"winner\"].value_counts().plot.pie(autopct=\"%1.2f%%\",explode=(0.2,0,0,0,0,0,0,0,0,0,0,0,0,0,0))\n",
    "plt.title(\"WINNERS OF IPL\")\n",
    "plt.show()"
   ]
  },
  {
   "cell_type": "markdown",
   "id": "productive-scott",
   "metadata": {},
   "source": [
    "# MOST TIMES WINNING TEAM IN THE HISTORY OF THE IPL"
   ]
  },
  {
   "cell_type": "code",
   "execution_count": 19,
   "id": "measured-carbon",
   "metadata": {},
   "outputs": [
    {
     "data": {
      "text/plain": [
       "'Mumbai Indians'"
      ]
     },
     "execution_count": 19,
     "metadata": {},
     "output_type": "execute_result"
    }
   ],
   "source": [
    "df.groupby(\"winner\")[\"team\"].value_counts().idxmax()[0]"
   ]
  },
  {
   "cell_type": "markdown",
   "id": "danish-applicant",
   "metadata": {},
   "source": [
    "# LAST TIMES WINNING TEAM IN THE HISTORY OF THE IPL"
   ]
  },
  {
   "cell_type": "code",
   "execution_count": 20,
   "id": "discrete-geometry",
   "metadata": {},
   "outputs": [
    {
     "data": {
      "text/plain": [
       "'Chennai Super Kings'"
      ]
     },
     "execution_count": 20,
     "metadata": {},
     "output_type": "execute_result"
    }
   ],
   "source": [
    "df.groupby(\"winner\")[\"team\"].value_counts().idxmin()[0]"
   ]
  },
  {
   "cell_type": "markdown",
   "id": "mexican-differential",
   "metadata": {},
   "source": [
    "# TOP 3 WINNING TEAM IN THE HISTORY OF THE IPL AND ITS REPRESENTATION"
   ]
  },
  {
   "cell_type": "code",
   "execution_count": 21,
   "id": "congressional-gossip",
   "metadata": {},
   "outputs": [
    {
     "data": {
      "text/plain": [
       "Mumbai Indians           121\n",
       "Chennai Super Kings      108\n",
       "Kolkata Knight Riders     99\n",
       "Name: winner, dtype: int64"
      ]
     },
     "execution_count": 21,
     "metadata": {},
     "output_type": "execute_result"
    }
   ],
   "source": [
    "df.winner.value_counts().nlargest(3)"
   ]
  },
  {
   "cell_type": "code",
   "execution_count": 22,
   "id": "color-maple",
   "metadata": {},
   "outputs": [
    {
     "data": {
      "text/plain": [
       "<AxesSubplot:>"
      ]
     },
     "execution_count": 22,
     "metadata": {},
     "output_type": "execute_result"
    },
    {
     "data": {
      "image/png": "[encoded data removed]",
      "text/plain": [
       "<Figure size 432x288 with 1 Axes>"
      ]
     },
     "metadata": {
      "needs_background": "light"
     },
     "output_type": "display_data"
    }
   ],
   "source": [
    "df.winner.value_counts().nlargest(3).plot(kind=\"barh\")"
   ]
  },
  {
   "cell_type": "markdown",
   "id": "aquatic-wireless",
   "metadata": {},
   "source": [
    "# WINNER WITH RESPECT TO VENUE AND ITS REPRESENTATION ON PIE CHART"
   ]
  },
  {
   "cell_type": "code",
   "execution_count": 23,
   "id": "happy-coaching",
   "metadata": {},
   "outputs": [
    {
     "data": {
      "text/plain": [
       "winner                       venue                                               \n",
       "Kolkata Knight Riders        Eden Gardens                                            45\n",
       "Mumbai Indians               Wankhede Stadium                                        42\n",
       "Chennai Super Kings          MA Chidambaram Stadium, Chepauk                         40\n",
       "Rajasthan Royals             Sawai Mansingh Stadium                                  32\n",
       "Sunrisers Hyderabad          Rajiv Gandhi International Stadium, Uppal               30\n",
       "Royal Challengers Bangalore  M Chinnaswamy Stadium                                   29\n",
       "Delhi Daredevils             Feroz Shah Kotla                                        27\n",
       "Kings XI Punjab              Punjab Cricket Association Stadium, Mohali              18\n",
       "                             Punjab Cricket Association IS Bindra Stadium, Mohali    12\n",
       "Mumbai Indians               Eden Gardens                                            10\n",
       "                             M Chinnaswamy Stadium                                    9\n",
       "Royal Challengers Bangalore  M.Chinnaswamy Stadium                                    8\n",
       "Chennai Super Kings          Wankhede Stadium                                         7\n",
       "Mumbai Indians               Rajiv Gandhi International Stadium, Uppal                7\n",
       "Rajasthan Royals             Sardar Patel Stadium, Motera                             7\n",
       "Name: venue, dtype: int64"
      ]
     },
     "execution_count": 23,
     "metadata": {},
     "output_type": "execute_result"
    }
   ],
   "source": [
    "df.groupby(\"winner\")[\"venue\"].value_counts().nlargest(15)"
   ]
  },
  {
   "cell_type": "code",
   "execution_count": 24,
   "id": "junior-outreach",
   "metadata": {},
   "outputs": [
    {
     "data": {
      "image/png": "[encoded data removed]",
      "text/plain": [
       "<Figure size 504x504 with 1 Axes>"
      ]
     },
     "metadata": {},
     "output_type": "display_data"
    }
   ],
   "source": [
    "plt.figure(figsize=(7,7)),\n",
    "df.groupby('winner')['venue'].value_counts().nlargest(15).plot(kind='pie',explode=(0.2,0,0,0,0,0,0,0,0,0,0,0,0,0,0),autopct=(\"%1.2f%%\"))\n",
    "plt.show()"
   ]
  },
  {
   "cell_type": "markdown",
   "id": "automated-ranch",
   "metadata": {},
   "source": [
    "# WINNERS AND ITS REPRESENTATION"
   ]
  },
  {
   "cell_type": "code",
   "execution_count": 25,
   "id": "extraordinary-promise",
   "metadata": {},
   "outputs": [
    {
     "data": {
      "text/plain": [
       "0            Kolkata Knight Riders\n",
       "1              Chennai Super Kings\n",
       "2                 Delhi Daredevils\n",
       "3      Royal Challengers Bangalore\n",
       "4            Kolkata Knight Riders\n",
       "                  ...             \n",
       "811    Royal Challengers Bangalore\n",
       "812                 Mumbai Indians\n",
       "813            Sunrisers Hyderabad\n",
       "814                 Delhi Capitals\n",
       "815                 Mumbai Indians\n",
       "Name: winner, Length: 816, dtype: object"
      ]
     },
     "execution_count": 25,
     "metadata": {},
     "output_type": "execute_result"
    }
   ],
   "source": [
    "df.winner"
   ]
  },
  {
   "cell_type": "code",
   "execution_count": 26,
   "id": "realistic-collaboration",
   "metadata": {},
   "outputs": [
    {
     "data": {
      "image/png": "[encoded data removed]",
      "text/plain": [
       "<Figure size 504x504 with 1 Axes>"
      ]
     },
     "metadata": {
      "needs_background": "light"
     },
     "output_type": "display_data"
    }
   ],
   "source": [
    "plt.figure(figsize=(7,7))       \n",
    "sns.countplot(data=df,y='winner')\n",
    "plt.show()\n"
   ]
  },
  {
   "cell_type": "markdown",
   "id": "divine-matthew",
   "metadata": {},
   "source": [
    "# CORRELATION"
   ]
  },
  {
   "cell_type": "code",
   "execution_count": 27,
   "id": "subtle-coalition",
   "metadata": {},
   "outputs": [
    {
     "data": {
      "text/html": [
       "<div>\n",
       "<style scoped>\n",
       "    .dataframe tbody tr th:only-of-type {\n",
       "        vertical-align: middle;\n",
       "    }\n",
       "\n",
       "    .dataframe tbody tr th {\n",
       "        vertical-align: top;\n",
       "    }\n",
       "\n",
       "    .dataframe thead th {\n",
       "        text-align: right;\n",
       "    }\n",
       "</style>\n",
       "<table border=\"1\" class=\"dataframe\">\n",
       "  <thead>\n",
       "    <tr style=\"text-align: right;\">\n",
       "      <th></th>\n",
       "      <th>id</th>\n",
       "      <th>neutral_venue</th>\n",
       "      <th>result_margin</th>\n",
       "    </tr>\n",
       "  </thead>\n",
       "  <tbody>\n",
       "    <tr>\n",
       "      <th>id</th>\n",
       "      <td>1.000000</td>\n",
       "      <td>-0.292042</td>\n",
       "      <td>0.003656</td>\n",
       "    </tr>\n",
       "    <tr>\n",
       "      <th>neutral_venue</th>\n",
       "      <td>-0.292042</td>\n",
       "      <td>1.000000</td>\n",
       "      <td>-0.010340</td>\n",
       "    </tr>\n",
       "    <tr>\n",
       "      <th>result_margin</th>\n",
       "      <td>0.003656</td>\n",
       "      <td>-0.010340</td>\n",
       "      <td>1.000000</td>\n",
       "    </tr>\n",
       "  </tbody>\n",
       "</table>\n",
       "</div>"
      ],
      "text/plain": [
       "                     id  neutral_venue  result_margin\n",
       "id             1.000000      -0.292042       0.003656\n",
       "neutral_venue -0.292042       1.000000      -0.010340\n",
       "result_margin  0.003656      -0.010340       1.000000"
      ]
     },
     "execution_count": 27,
     "metadata": {},
     "output_type": "execute_result"
    }
   ],
   "source": [
    "corr=df.corr()\n",
    "corr"
   ]
  },
  {
   "cell_type": "markdown",
   "id": "thermal-niagara",
   "metadata": {},
   "source": [
    "# HEATMAP"
   ]
  },
  {
   "cell_type": "code",
   "execution_count": 28,
   "id": "developmental-indonesian",
   "metadata": {},
   "outputs": [
    {
     "data": {
      "text/plain": [
       "<AxesSubplot:>"
      ]
     },
     "execution_count": 28,
     "metadata": {},
     "output_type": "execute_result"
    },
    {
     "data": {
      "image/png": "[encoded data removed]",
      "text/plain": [
       "<Figure size 432x288 with 2 Axes>"
      ]
     },
     "metadata": {
      "needs_background": "light"
     },
     "output_type": "display_data"
    }
   ],
   "source": [
    "sns.heatmap(df.corr(),cmap='coolwarm',annot=True)"
   ]
  },
  {
   "cell_type": "markdown",
   "id": "comparable-fundamental",
   "metadata": {},
   "source": [
    "from above correlation we conclude that there is a -ve correlation between neutral_venue and resut_margin,i.e they are inversly proportional to each other\n",
    "- +ve correlation between id and result_margin\n",
    "- -ve correlation between id and neutral venue¶"
   ]
  },
  {
   "cell_type": "markdown",
   "id": "convinced-washer",
   "metadata": {},
   "source": [
    "# THESE ARE THE DIFFERENT VENUES OF THE MATCHES AND ITS REPRESENTATION"
   ]
  },
  {
   "cell_type": "code",
   "execution_count": 29,
   "id": "complimentary-johnson",
   "metadata": {},
   "outputs": [
    {
     "data": {
      "text/plain": [
       "array(['M Chinnaswamy Stadium',\n",
       "       'Punjab Cricket Association Stadium, Mohali', 'Feroz Shah Kotla',\n",
       "       'Wankhede Stadium', 'Eden Gardens', 'Sawai Mansingh Stadium',\n",
       "       'Rajiv Gandhi International Stadium, Uppal',\n",
       "       'MA Chidambaram Stadium, Chepauk', 'Dr DY Patil Sports Academy',\n",
       "       'Newlands', \"St George's Park\", 'Kingsmead', 'SuperSport Park',\n",
       "       'Buffalo Park', 'New Wanderers Stadium', 'De Beers Diamond Oval',\n",
       "       'OUTsurance Oval', 'Brabourne Stadium',\n",
       "       'Sardar Patel Stadium, Motera', 'Barabati Stadium',\n",
       "       'Vidarbha Cricket Association Stadium, Jamtha',\n",
       "       'Himachal Pradesh Cricket Association Stadium', 'Nehru Stadium',\n",
       "       'Holkar Cricket Stadium',\n",
       "       'Dr. Y.S. Rajasekhara Reddy ACA-VDCA Cricket Stadium',\n",
       "       'Subrata Roy Sahara Stadium',\n",
       "       'Shaheed Veer Narayan Singh International Stadium',\n",
       "       'JSCA International Stadium Complex', 'Sheikh Zayed Stadium',\n",
       "       'Sharjah Cricket Stadium', 'Dubai International Cricket Stadium',\n",
       "       'Maharashtra Cricket Association Stadium',\n",
       "       'Punjab Cricket Association IS Bindra Stadium, Mohali',\n",
       "       'Saurashtra Cricket Association Stadium', 'Green Park',\n",
       "       'M.Chinnaswamy Stadium'], dtype=object)"
      ]
     },
     "execution_count": 29,
     "metadata": {},
     "output_type": "execute_result"
    }
   ],
   "source": [
    "df.venue.unique()"
   ]
  },
  {
   "cell_type": "code",
   "execution_count": 30,
   "id": "coral-swift",
   "metadata": {},
   "outputs": [
    {
     "data": {
      "text/plain": [
       "[]"
      ]
     },
     "execution_count": 30,
     "metadata": {},
     "output_type": "execute_result"
    },
    {
     "data": {
      "image/png": "[encoded data removed]",
      "text/plain": [
       "<Figure size 504x504 with 1 Axes>"
      ]
     },
     "metadata": {
      "needs_background": "light"
     },
     "output_type": "display_data"
    }
   ],
   "source": [
    "plt.figure(figsize=(7,7))\n",
    "sns.countplot(data=df,y=df.venue)\n",
    "plt.plot()"
   ]
  },
  {
   "cell_type": "markdown",
   "id": "appreciated-australia",
   "metadata": {},
   "source": [
    "# WINNERS WHO WON THE MATCH WITH RESPECT TO TOSS"
   ]
  },
  {
   "cell_type": "code",
   "execution_count": 31,
   "id": "brave-louisiana",
   "metadata": {},
   "outputs": [],
   "source": [
    "team=df[\"toss_winner\"].unique()\n",
    "decision=pd.DataFrame([],columns=['Toss winner','Decision','Times'])\n",
    "for element in team:\n",
    "    team_bat=df[(df['toss_winner']==element) & (df['toss_decision']=='bat')]\n",
    "    team_field=df[(df['toss_winner']==element) & (df['toss_decision']=='field')]\n",
    "    decision=decision.append({'Toss winner':element,'Decision':'bat','Times':team_bat['toss_decision'].count()},ignore_index=True)\n",
    "    decision=decision.append({'Toss winner':element,'Decision':'field','Times':team_field['toss_decision'].count()},ignore_index=True)"
   ]
  },
  {
   "cell_type": "code",
   "execution_count": 32,
   "id": "molecular-worker",
   "metadata": {},
   "outputs": [
    {
     "data": {
      "text/html": [
       "<div>\n",
       "<style scoped>\n",
       "    .dataframe tbody tr th:only-of-type {\n",
       "        vertical-align: middle;\n",
       "    }\n",
       "\n",
       "    .dataframe tbody tr th {\n",
       "        vertical-align: top;\n",
       "    }\n",
       "\n",
       "    .dataframe thead th {\n",
       "        text-align: right;\n",
       "    }\n",
       "</style>\n",
       "<table border=\"1\" class=\"dataframe\">\n",
       "  <thead>\n",
       "    <tr style=\"text-align: right;\">\n",
       "      <th></th>\n",
       "      <th>Toss winner</th>\n",
       "      <th>Decision</th>\n",
       "      <th>Times</th>\n",
       "    </tr>\n",
       "  </thead>\n",
       "  <tbody>\n",
       "    <tr>\n",
       "      <th>0</th>\n",
       "      <td>Royal Challengers Bangalore</td>\n",
       "      <td>bat</td>\n",
       "      <td>24</td>\n",
       "    </tr>\n",
       "    <tr>\n",
       "      <th>1</th>\n",
       "      <td>Royal Challengers Bangalore</td>\n",
       "      <td>field</td>\n",
       "      <td>63</td>\n",
       "    </tr>\n",
       "    <tr>\n",
       "      <th>2</th>\n",
       "      <td>Chennai Super Kings</td>\n",
       "      <td>bat</td>\n",
       "      <td>51</td>\n",
       "    </tr>\n",
       "    <tr>\n",
       "      <th>3</th>\n",
       "      <td>Chennai Super Kings</td>\n",
       "      <td>field</td>\n",
       "      <td>46</td>\n",
       "    </tr>\n",
       "    <tr>\n",
       "      <th>4</th>\n",
       "      <td>Rajasthan Royals</td>\n",
       "      <td>bat</td>\n",
       "      <td>34</td>\n",
       "    </tr>\n",
       "    <tr>\n",
       "      <th>5</th>\n",
       "      <td>Rajasthan Royals</td>\n",
       "      <td>field</td>\n",
       "      <td>53</td>\n",
       "    </tr>\n",
       "    <tr>\n",
       "      <th>6</th>\n",
       "      <td>Mumbai Indians</td>\n",
       "      <td>bat</td>\n",
       "      <td>48</td>\n",
       "    </tr>\n",
       "    <tr>\n",
       "      <th>7</th>\n",
       "      <td>Mumbai Indians</td>\n",
       "      <td>field</td>\n",
       "      <td>58</td>\n",
       "    </tr>\n",
       "    <tr>\n",
       "      <th>8</th>\n",
       "      <td>Deccan Chargers</td>\n",
       "      <td>bat</td>\n",
       "      <td>24</td>\n",
       "    </tr>\n",
       "    <tr>\n",
       "      <th>9</th>\n",
       "      <td>Deccan Chargers</td>\n",
       "      <td>field</td>\n",
       "      <td>19</td>\n",
       "    </tr>\n",
       "    <tr>\n",
       "      <th>10</th>\n",
       "      <td>Kings XI Punjab</td>\n",
       "      <td>bat</td>\n",
       "      <td>27</td>\n",
       "    </tr>\n",
       "    <tr>\n",
       "      <th>11</th>\n",
       "      <td>Kings XI Punjab</td>\n",
       "      <td>field</td>\n",
       "      <td>58</td>\n",
       "    </tr>\n",
       "    <tr>\n",
       "      <th>12</th>\n",
       "      <td>Kolkata Knight Riders</td>\n",
       "      <td>bat</td>\n",
       "      <td>34</td>\n",
       "    </tr>\n",
       "    <tr>\n",
       "      <th>13</th>\n",
       "      <td>Kolkata Knight Riders</td>\n",
       "      <td>field</td>\n",
       "      <td>64</td>\n",
       "    </tr>\n",
       "    <tr>\n",
       "      <th>14</th>\n",
       "      <td>Delhi Daredevils</td>\n",
       "      <td>bat</td>\n",
       "      <td>29</td>\n",
       "    </tr>\n",
       "    <tr>\n",
       "      <th>15</th>\n",
       "      <td>Delhi Daredevils</td>\n",
       "      <td>field</td>\n",
       "      <td>51</td>\n",
       "    </tr>\n",
       "    <tr>\n",
       "      <th>16</th>\n",
       "      <td>Kochi Tuskers Kerala</td>\n",
       "      <td>bat</td>\n",
       "      <td>3</td>\n",
       "    </tr>\n",
       "    <tr>\n",
       "      <th>17</th>\n",
       "      <td>Kochi Tuskers Kerala</td>\n",
       "      <td>field</td>\n",
       "      <td>5</td>\n",
       "    </tr>\n",
       "    <tr>\n",
       "      <th>18</th>\n",
       "      <td>Pune Warriors</td>\n",
       "      <td>bat</td>\n",
       "      <td>11</td>\n",
       "    </tr>\n",
       "    <tr>\n",
       "      <th>19</th>\n",
       "      <td>Pune Warriors</td>\n",
       "      <td>field</td>\n",
       "      <td>9</td>\n",
       "    </tr>\n",
       "    <tr>\n",
       "      <th>20</th>\n",
       "      <td>Sunrisers Hyderabad</td>\n",
       "      <td>bat</td>\n",
       "      <td>24</td>\n",
       "    </tr>\n",
       "    <tr>\n",
       "      <th>21</th>\n",
       "      <td>Sunrisers Hyderabad</td>\n",
       "      <td>field</td>\n",
       "      <td>33</td>\n",
       "    </tr>\n",
       "    <tr>\n",
       "      <th>22</th>\n",
       "      <td>Gujarat Lions</td>\n",
       "      <td>bat</td>\n",
       "      <td>1</td>\n",
       "    </tr>\n",
       "    <tr>\n",
       "      <th>23</th>\n",
       "      <td>Gujarat Lions</td>\n",
       "      <td>field</td>\n",
       "      <td>14</td>\n",
       "    </tr>\n",
       "    <tr>\n",
       "      <th>24</th>\n",
       "      <td>Rising Pune Supergiants</td>\n",
       "      <td>bat</td>\n",
       "      <td>3</td>\n",
       "    </tr>\n",
       "    <tr>\n",
       "      <th>25</th>\n",
       "      <td>Rising Pune Supergiants</td>\n",
       "      <td>field</td>\n",
       "      <td>4</td>\n",
       "    </tr>\n",
       "    <tr>\n",
       "      <th>26</th>\n",
       "      <td>Rising Pune Supergiant</td>\n",
       "      <td>bat</td>\n",
       "      <td>0</td>\n",
       "    </tr>\n",
       "    <tr>\n",
       "      <th>27</th>\n",
       "      <td>Rising Pune Supergiant</td>\n",
       "      <td>field</td>\n",
       "      <td>6</td>\n",
       "    </tr>\n",
       "    <tr>\n",
       "      <th>28</th>\n",
       "      <td>Delhi Capitals</td>\n",
       "      <td>bat</td>\n",
       "      <td>7</td>\n",
       "    </tr>\n",
       "    <tr>\n",
       "      <th>29</th>\n",
       "      <td>Delhi Capitals</td>\n",
       "      <td>field</td>\n",
       "      <td>13</td>\n",
       "    </tr>\n",
       "  </tbody>\n",
       "</table>\n",
       "</div>"
      ],
      "text/plain": [
       "                    Toss winner Decision Times\n",
       "0   Royal Challengers Bangalore      bat    24\n",
       "1   Royal Challengers Bangalore    field    63\n",
       "2           Chennai Super Kings      bat    51\n",
       "3           Chennai Super Kings    field    46\n",
       "4              Rajasthan Royals      bat    34\n",
       "5              Rajasthan Royals    field    53\n",
       "6                Mumbai Indians      bat    48\n",
       "7                Mumbai Indians    field    58\n",
       "8               Deccan Chargers      bat    24\n",
       "9               Deccan Chargers    field    19\n",
       "10              Kings XI Punjab      bat    27\n",
       "11              Kings XI Punjab    field    58\n",
       "12        Kolkata Knight Riders      bat    34\n",
       "13        Kolkata Knight Riders    field    64\n",
       "14             Delhi Daredevils      bat    29\n",
       "15             Delhi Daredevils    field    51\n",
       "16         Kochi Tuskers Kerala      bat     3\n",
       "17         Kochi Tuskers Kerala    field     5\n",
       "18                Pune Warriors      bat    11\n",
       "19                Pune Warriors    field     9\n",
       "20          Sunrisers Hyderabad      bat    24\n",
       "21          Sunrisers Hyderabad    field    33\n",
       "22                Gujarat Lions      bat     1\n",
       "23                Gujarat Lions    field    14\n",
       "24      Rising Pune Supergiants      bat     3\n",
       "25      Rising Pune Supergiants    field     4\n",
       "26       Rising Pune Supergiant      bat     0\n",
       "27       Rising Pune Supergiant    field     6\n",
       "28               Delhi Capitals      bat     7\n",
       "29               Delhi Capitals    field    13"
      ]
     },
     "execution_count": 32,
     "metadata": {},
     "output_type": "execute_result"
    }
   ],
   "source": [
    "decision"
   ]
  },
  {
   "cell_type": "code",
   "execution_count": 33,
   "id": "revised-rocket",
   "metadata": {},
   "outputs": [
    {
     "data": {
      "text/plain": [
       "Decision\n",
       "bat      320\n",
       "field    496\n",
       "Name: Times, dtype: int64"
      ]
     },
     "execution_count": 33,
     "metadata": {},
     "output_type": "execute_result"
    }
   ],
   "source": [
    "\n",
    "decision.groupby('Decision')['Times'].sum()"
   ]
  },
  {
   "cell_type": "code",
   "execution_count": 34,
   "id": "constant-organic",
   "metadata": {},
   "outputs": [
    {
     "data": {
      "text/plain": [
       "[]"
      ]
     },
     "execution_count": 34,
     "metadata": {},
     "output_type": "execute_result"
    },
    {
     "data": {
      "image/png": "[encoded data removed]",
      "text/plain": [
       "<Figure size 504x504 with 1 Axes>"
      ]
     },
     "metadata": {
      "needs_background": "light"
     },
     "output_type": "display_data"
    }
   ],
   "source": [
    "plt.figure(figsize=(7,7))\n",
    "sns.countplot(data=df,x=\"winner\",hue=\"toss_decision\")\n",
    "plt.title(\"wins with Respect to toss choice\")\n",
    "plt.plot()"
   ]
  },
  {
   "cell_type": "markdown",
   "id": "divided-giant",
   "metadata": {},
   "source": [
    "# WINNERS WITH RESPECT TO CITIES"
   ]
  },
  {
   "cell_type": "code",
   "execution_count": 35,
   "id": "intense-centre",
   "metadata": {},
   "outputs": [
    {
     "data": {
      "text/plain": [
       "winner               city     \n",
       "Chennai Super Kings  Chennai      40\n",
       "                     Mumbai       11\n",
       "                     Abu Dhabi     6\n",
       "                     Delhi         6\n",
       "                     Pune          6\n",
       "                                  ..\n",
       "Sunrisers Hyderabad  Jaipur        1\n",
       "                     Kanpur        1\n",
       "                     Pune          1\n",
       "                     Raipur        1\n",
       "                     Rajkot        1\n",
       "Name: city, Length: 222, dtype: int64"
      ]
     },
     "execution_count": 35,
     "metadata": {},
     "output_type": "execute_result"
    }
   ],
   "source": [
    "df.groupby(\"winner\")[\"city\"].value_counts()"
   ]
  },
  {
   "cell_type": "code",
   "execution_count": 36,
   "id": "cleared-situation",
   "metadata": {},
   "outputs": [
    {
     "data": {
      "text/plain": [
       "[]"
      ]
     },
     "execution_count": 36,
     "metadata": {},
     "output_type": "execute_result"
    },
    {
     "data": {
      "image/png": "[encoded data removed]",
      "text/plain": [
       "<Figure size 720x720 with 1 Axes>"
      ]
     },
     "metadata": {
      "needs_background": "light"
     },
     "output_type": "display_data"
    }
   ],
   "source": [
    "plt.figure(figsize=(10,10))\n",
    "df.groupby(\"winner\")[\"city\"].value_counts().nlargest(15).plot(kind=\"barh\")\n",
    "plt.title(\"winners with respect ti cities\")\n",
    "plt.xlabel(\"teams ad cities\")\n",
    "plt.ylabel(\"no of time\")\n",
    "plt.plot()"
   ]
  },
  {
   "cell_type": "markdown",
   "id": "expensive-zealand",
   "metadata": {},
   "source": [
    "# WINNERS WITH RESPECT TO RESULT MARHIN AND ITS REPRESENTATION IN PIE CHART"
   ]
  },
  {
   "cell_type": "code",
   "execution_count": 37,
   "id": "german-spain",
   "metadata": {},
   "outputs": [
    {
     "data": {
      "text/plain": [
       "winner                 result_margin\n",
       "Kings XI Punjab        6.0              19\n",
       "Mumbai Indians         5.0              16\n",
       "Kolkata Knight Riders  7.0              14\n",
       "Chennai Super Kings    5.0              13\n",
       "Kings XI Punjab        7.0              13\n",
       "Rajasthan Royals       7.0              12\n",
       "Kolkata Knight Riders  6.0              11\n",
       "                       8.0              11\n",
       "Sunrisers Hyderabad    5.0              11\n",
       "Chennai Super Kings    7.0              10\n",
       "Delhi Daredevils       6.0              10\n",
       "Kolkata Knight Riders  5.0              10\n",
       "Mumbai Indians         6.0              10\n",
       "                       8.0              10\n",
       "                       9.0              10\n",
       "Name: result_margin, dtype: int64"
      ]
     },
     "execution_count": 37,
     "metadata": {},
     "output_type": "execute_result"
    }
   ],
   "source": [
    "df.groupby(\"winner\")[\"result_margin\"].value_counts().nlargest(15)"
   ]
  },
  {
   "cell_type": "code",
   "execution_count": 38,
   "id": "radio-difference",
   "metadata": {},
   "outputs": [
    {
     "data": {
      "text/plain": [
       "[]"
      ]
     },
     "execution_count": 38,
     "metadata": {},
     "output_type": "execute_result"
    },
    {
     "data": {
      "image/png": "[encoded data removed]",
      "text/plain": [
       "<Figure size 504x504 with 1 Axes>"
      ]
     },
     "metadata": {},
     "output_type": "display_data"
    }
   ],
   "source": [
    "plt.figure(figsize=(7,7))\n",
    "df.groupby(\"winner\")[\"result_margin\"].value_counts().nlargest(15).plot(kind=\"pie\",autopct=\"%1.2f%%\")\n",
    "plt.plot()"
   ]
  },
  {
   "cell_type": "markdown",
   "id": "confirmed-seventh",
   "metadata": {},
   "source": [
    "# TEAMS WON BY WICKETS/RUN/TIED¶"
   ]
  },
  {
   "cell_type": "code",
   "execution_count": 39,
   "id": "enclosed-examination",
   "metadata": {},
   "outputs": [],
   "source": [
    "\n",
    "result=df['winner'].unique()\n",
    "df=pd.DataFrame([],columns=['winner','result','times'])"
   ]
  },
  {
   "cell_type": "code",
   "execution_count": 40,
   "id": "referenced-calibration",
   "metadata": {},
   "outputs": [],
   "source": [
    "\n",
    "for re in result:\n",
    "    res_run=df[(df['winner']==re) & (df['result']=='runs')]\n",
    "    res_wick=df[(df['winner']==re) & (df['result']=='wickets')]\n",
    "    res_tie=df[(df['winner']==re) & (df['result']=='tie')]\n",
    "    df=df.append({'winner':re,'result':'runs','times':res_run['winner'].count()},ignore_index=True)\n",
    "    df=df.append({'winner':re,'result':'wickets','times':res_wick['winner'].count()},ignore_index=True)\n",
    "    df=df.append({'winner':re,'result':'tie','times':res_tie['winner'].count()},ignore_index=True)\n",
    "   "
   ]
  },
  {
   "cell_type": "code",
   "execution_count": 41,
   "id": "peripheral-massachusetts",
   "metadata": {},
   "outputs": [
    {
     "data": {
      "text/html": [
       "<div>\n",
       "<style scoped>\n",
       "    .dataframe tbody tr th:only-of-type {\n",
       "        vertical-align: middle;\n",
       "    }\n",
       "\n",
       "    .dataframe tbody tr th {\n",
       "        vertical-align: top;\n",
       "    }\n",
       "\n",
       "    .dataframe thead th {\n",
       "        text-align: right;\n",
       "    }\n",
       "</style>\n",
       "<table border=\"1\" class=\"dataframe\">\n",
       "  <thead>\n",
       "    <tr style=\"text-align: right;\">\n",
       "      <th></th>\n",
       "      <th>winner</th>\n",
       "      <th>result</th>\n",
       "      <th>times</th>\n",
       "    </tr>\n",
       "  </thead>\n",
       "  <tbody>\n",
       "    <tr>\n",
       "      <th>0</th>\n",
       "      <td>Kolkata Knight Riders</td>\n",
       "      <td>runs</td>\n",
       "      <td>0</td>\n",
       "    </tr>\n",
       "    <tr>\n",
       "      <th>1</th>\n",
       "      <td>Kolkata Knight Riders</td>\n",
       "      <td>wickets</td>\n",
       "      <td>0</td>\n",
       "    </tr>\n",
       "    <tr>\n",
       "      <th>2</th>\n",
       "      <td>Kolkata Knight Riders</td>\n",
       "      <td>tie</td>\n",
       "      <td>0</td>\n",
       "    </tr>\n",
       "    <tr>\n",
       "      <th>3</th>\n",
       "      <td>Chennai Super Kings</td>\n",
       "      <td>runs</td>\n",
       "      <td>0</td>\n",
       "    </tr>\n",
       "    <tr>\n",
       "      <th>4</th>\n",
       "      <td>Chennai Super Kings</td>\n",
       "      <td>wickets</td>\n",
       "      <td>0</td>\n",
       "    </tr>\n",
       "    <tr>\n",
       "      <th>5</th>\n",
       "      <td>Chennai Super Kings</td>\n",
       "      <td>tie</td>\n",
       "      <td>0</td>\n",
       "    </tr>\n",
       "    <tr>\n",
       "      <th>6</th>\n",
       "      <td>Delhi Daredevils</td>\n",
       "      <td>runs</td>\n",
       "      <td>0</td>\n",
       "    </tr>\n",
       "    <tr>\n",
       "      <th>7</th>\n",
       "      <td>Delhi Daredevils</td>\n",
       "      <td>wickets</td>\n",
       "      <td>0</td>\n",
       "    </tr>\n",
       "    <tr>\n",
       "      <th>8</th>\n",
       "      <td>Delhi Daredevils</td>\n",
       "      <td>tie</td>\n",
       "      <td>0</td>\n",
       "    </tr>\n",
       "    <tr>\n",
       "      <th>9</th>\n",
       "      <td>Royal Challengers Bangalore</td>\n",
       "      <td>runs</td>\n",
       "      <td>0</td>\n",
       "    </tr>\n",
       "    <tr>\n",
       "      <th>10</th>\n",
       "      <td>Royal Challengers Bangalore</td>\n",
       "      <td>wickets</td>\n",
       "      <td>0</td>\n",
       "    </tr>\n",
       "    <tr>\n",
       "      <th>11</th>\n",
       "      <td>Royal Challengers Bangalore</td>\n",
       "      <td>tie</td>\n",
       "      <td>0</td>\n",
       "    </tr>\n",
       "    <tr>\n",
       "      <th>12</th>\n",
       "      <td>Rajasthan Royals</td>\n",
       "      <td>runs</td>\n",
       "      <td>0</td>\n",
       "    </tr>\n",
       "    <tr>\n",
       "      <th>13</th>\n",
       "      <td>Rajasthan Royals</td>\n",
       "      <td>wickets</td>\n",
       "      <td>0</td>\n",
       "    </tr>\n",
       "    <tr>\n",
       "      <th>14</th>\n",
       "      <td>Rajasthan Royals</td>\n",
       "      <td>tie</td>\n",
       "      <td>0</td>\n",
       "    </tr>\n",
       "    <tr>\n",
       "      <th>15</th>\n",
       "      <td>Kings XI Punjab</td>\n",
       "      <td>runs</td>\n",
       "      <td>0</td>\n",
       "    </tr>\n",
       "    <tr>\n",
       "      <th>16</th>\n",
       "      <td>Kings XI Punjab</td>\n",
       "      <td>wickets</td>\n",
       "      <td>0</td>\n",
       "    </tr>\n",
       "    <tr>\n",
       "      <th>17</th>\n",
       "      <td>Kings XI Punjab</td>\n",
       "      <td>tie</td>\n",
       "      <td>0</td>\n",
       "    </tr>\n",
       "    <tr>\n",
       "      <th>18</th>\n",
       "      <td>Deccan Chargers</td>\n",
       "      <td>runs</td>\n",
       "      <td>0</td>\n",
       "    </tr>\n",
       "    <tr>\n",
       "      <th>19</th>\n",
       "      <td>Deccan Chargers</td>\n",
       "      <td>wickets</td>\n",
       "      <td>0</td>\n",
       "    </tr>\n",
       "    <tr>\n",
       "      <th>20</th>\n",
       "      <td>Deccan Chargers</td>\n",
       "      <td>tie</td>\n",
       "      <td>0</td>\n",
       "    </tr>\n",
       "    <tr>\n",
       "      <th>21</th>\n",
       "      <td>Mumbai Indians</td>\n",
       "      <td>runs</td>\n",
       "      <td>0</td>\n",
       "    </tr>\n",
       "    <tr>\n",
       "      <th>22</th>\n",
       "      <td>Mumbai Indians</td>\n",
       "      <td>wickets</td>\n",
       "      <td>0</td>\n",
       "    </tr>\n",
       "    <tr>\n",
       "      <th>23</th>\n",
       "      <td>Mumbai Indians</td>\n",
       "      <td>tie</td>\n",
       "      <td>0</td>\n",
       "    </tr>\n",
       "    <tr>\n",
       "      <th>24</th>\n",
       "      <td>Pune Warriors</td>\n",
       "      <td>runs</td>\n",
       "      <td>0</td>\n",
       "    </tr>\n",
       "    <tr>\n",
       "      <th>25</th>\n",
       "      <td>Pune Warriors</td>\n",
       "      <td>wickets</td>\n",
       "      <td>0</td>\n",
       "    </tr>\n",
       "    <tr>\n",
       "      <th>26</th>\n",
       "      <td>Pune Warriors</td>\n",
       "      <td>tie</td>\n",
       "      <td>0</td>\n",
       "    </tr>\n",
       "    <tr>\n",
       "      <th>27</th>\n",
       "      <td>Kochi Tuskers Kerala</td>\n",
       "      <td>runs</td>\n",
       "      <td>0</td>\n",
       "    </tr>\n",
       "    <tr>\n",
       "      <th>28</th>\n",
       "      <td>Kochi Tuskers Kerala</td>\n",
       "      <td>wickets</td>\n",
       "      <td>0</td>\n",
       "    </tr>\n",
       "    <tr>\n",
       "      <th>29</th>\n",
       "      <td>Kochi Tuskers Kerala</td>\n",
       "      <td>tie</td>\n",
       "      <td>0</td>\n",
       "    </tr>\n",
       "    <tr>\n",
       "      <th>30</th>\n",
       "      <td>Sunrisers Hyderabad</td>\n",
       "      <td>runs</td>\n",
       "      <td>0</td>\n",
       "    </tr>\n",
       "    <tr>\n",
       "      <th>31</th>\n",
       "      <td>Sunrisers Hyderabad</td>\n",
       "      <td>wickets</td>\n",
       "      <td>0</td>\n",
       "    </tr>\n",
       "    <tr>\n",
       "      <th>32</th>\n",
       "      <td>Sunrisers Hyderabad</td>\n",
       "      <td>tie</td>\n",
       "      <td>0</td>\n",
       "    </tr>\n",
       "    <tr>\n",
       "      <th>33</th>\n",
       "      <td>Rising Pune Supergiants</td>\n",
       "      <td>runs</td>\n",
       "      <td>0</td>\n",
       "    </tr>\n",
       "    <tr>\n",
       "      <th>34</th>\n",
       "      <td>Rising Pune Supergiants</td>\n",
       "      <td>wickets</td>\n",
       "      <td>0</td>\n",
       "    </tr>\n",
       "    <tr>\n",
       "      <th>35</th>\n",
       "      <td>Rising Pune Supergiants</td>\n",
       "      <td>tie</td>\n",
       "      <td>0</td>\n",
       "    </tr>\n",
       "    <tr>\n",
       "      <th>36</th>\n",
       "      <td>Gujarat Lions</td>\n",
       "      <td>runs</td>\n",
       "      <td>0</td>\n",
       "    </tr>\n",
       "    <tr>\n",
       "      <th>37</th>\n",
       "      <td>Gujarat Lions</td>\n",
       "      <td>wickets</td>\n",
       "      <td>0</td>\n",
       "    </tr>\n",
       "    <tr>\n",
       "      <th>38</th>\n",
       "      <td>Gujarat Lions</td>\n",
       "      <td>tie</td>\n",
       "      <td>0</td>\n",
       "    </tr>\n",
       "    <tr>\n",
       "      <th>39</th>\n",
       "      <td>Rising Pune Supergiant</td>\n",
       "      <td>runs</td>\n",
       "      <td>0</td>\n",
       "    </tr>\n",
       "    <tr>\n",
       "      <th>40</th>\n",
       "      <td>Rising Pune Supergiant</td>\n",
       "      <td>wickets</td>\n",
       "      <td>0</td>\n",
       "    </tr>\n",
       "    <tr>\n",
       "      <th>41</th>\n",
       "      <td>Rising Pune Supergiant</td>\n",
       "      <td>tie</td>\n",
       "      <td>0</td>\n",
       "    </tr>\n",
       "    <tr>\n",
       "      <th>42</th>\n",
       "      <td>Delhi Capitals</td>\n",
       "      <td>runs</td>\n",
       "      <td>0</td>\n",
       "    </tr>\n",
       "    <tr>\n",
       "      <th>43</th>\n",
       "      <td>Delhi Capitals</td>\n",
       "      <td>wickets</td>\n",
       "      <td>0</td>\n",
       "    </tr>\n",
       "    <tr>\n",
       "      <th>44</th>\n",
       "      <td>Delhi Capitals</td>\n",
       "      <td>tie</td>\n",
       "      <td>0</td>\n",
       "    </tr>\n",
       "  </tbody>\n",
       "</table>\n",
       "</div>"
      ],
      "text/plain": [
       "                         winner   result times\n",
       "0         Kolkata Knight Riders     runs     0\n",
       "1         Kolkata Knight Riders  wickets     0\n",
       "2         Kolkata Knight Riders      tie     0\n",
       "3           Chennai Super Kings     runs     0\n",
       "4           Chennai Super Kings  wickets     0\n",
       "5           Chennai Super Kings      tie     0\n",
       "6              Delhi Daredevils     runs     0\n",
       "7              Delhi Daredevils  wickets     0\n",
       "8              Delhi Daredevils      tie     0\n",
       "9   Royal Challengers Bangalore     runs     0\n",
       "10  Royal Challengers Bangalore  wickets     0\n",
       "11  Royal Challengers Bangalore      tie     0\n",
       "12             Rajasthan Royals     runs     0\n",
       "13             Rajasthan Royals  wickets     0\n",
       "14             Rajasthan Royals      tie     0\n",
       "15              Kings XI Punjab     runs     0\n",
       "16              Kings XI Punjab  wickets     0\n",
       "17              Kings XI Punjab      tie     0\n",
       "18              Deccan Chargers     runs     0\n",
       "19              Deccan Chargers  wickets     0\n",
       "20              Deccan Chargers      tie     0\n",
       "21               Mumbai Indians     runs     0\n",
       "22               Mumbai Indians  wickets     0\n",
       "23               Mumbai Indians      tie     0\n",
       "24                Pune Warriors     runs     0\n",
       "25                Pune Warriors  wickets     0\n",
       "26                Pune Warriors      tie     0\n",
       "27         Kochi Tuskers Kerala     runs     0\n",
       "28         Kochi Tuskers Kerala  wickets     0\n",
       "29         Kochi Tuskers Kerala      tie     0\n",
       "30          Sunrisers Hyderabad     runs     0\n",
       "31          Sunrisers Hyderabad  wickets     0\n",
       "32          Sunrisers Hyderabad      tie     0\n",
       "33      Rising Pune Supergiants     runs     0\n",
       "34      Rising Pune Supergiants  wickets     0\n",
       "35      Rising Pune Supergiants      tie     0\n",
       "36                Gujarat Lions     runs     0\n",
       "37                Gujarat Lions  wickets     0\n",
       "38                Gujarat Lions      tie     0\n",
       "39       Rising Pune Supergiant     runs     0\n",
       "40       Rising Pune Supergiant  wickets     0\n",
       "41       Rising Pune Supergiant      tie     0\n",
       "42               Delhi Capitals     runs     0\n",
       "43               Delhi Capitals  wickets     0\n",
       "44               Delhi Capitals      tie     0"
      ]
     },
     "execution_count": 41,
     "metadata": {},
     "output_type": "execute_result"
    }
   ],
   "source": [
    "df"
   ]
  },
  {
   "cell_type": "code",
   "execution_count": 42,
   "id": "advance-short",
   "metadata": {},
   "outputs": [
    {
     "data": {
      "text/plain": [
       "result\n",
       "runs       0\n",
       "tie        0\n",
       "wickets    0\n",
       "Name: times, dtype: int64"
      ]
     },
     "execution_count": 42,
     "metadata": {},
     "output_type": "execute_result"
    }
   ],
   "source": [
    "df.groupby('result')['times'].sum()"
   ]
  },
  {
   "cell_type": "code",
   "execution_count": 43,
   "id": "stylish-encoding",
   "metadata": {},
   "outputs": [
    {
     "data": {
      "text/plain": [
       "<AxesSubplot:xlabel='winner', ylabel='count'>"
      ]
     },
     "execution_count": 43,
     "metadata": {},
     "output_type": "execute_result"
    },
    {
     "data": {
      "image/png": "[encoded data removed]",
      "text/plain": [
       "<Figure size 720x720 with 1 Axes>"
      ]
     },
     "metadata": {
      "needs_background": "light"
     },
     "output_type": "display_data"
    }
   ],
   "source": [
    "plt.figure(figsize=(10,10))\n",
    "sns.countplot(data=df,x='winner',hue='result')\n"
   ]
  },
  {
   "cell_type": "markdown",
   "id": "level-suspect",
   "metadata": {},
   "source": [
    "# using pairplot"
   ]
  },
  {
   "cell_type": "code",
   "execution_count": 44,
   "id": "binding-density",
   "metadata": {},
   "outputs": [
    {
     "data": {
      "text/plain": [
       "<seaborn.axisgrid.PairGrid at 0x1ab911dfa90>"
      ]
     },
     "execution_count": 44,
     "metadata": {},
     "output_type": "execute_result"
    },
    {
     "data": {
      "image/png": "[encoded data removed]",
      "text/plain": [
       "<Figure size 180x180 with 2 Axes>"
      ]
     },
     "metadata": {
      "needs_background": "light"
     },
     "output_type": "display_data"
    }
   ],
   "source": [
    "sns.pairplot(df)"
   ]
  },
  {
   "cell_type": "markdown",
   "id": "funny-reader",
   "metadata": {},
   "source": [
    "# conclusion\n",
    "\n",
    "\n",
    "\n",
    "\n",
    "\n",
    "\n",
    "\n",
    "\n",
    "\n",
    "\n"
   ]
  },
  {
   "cell_type": "markdown",
   "id": "bearing-drain",
   "metadata": {},
   "source": [
    "From above analysis i have concluded highest award of 'player of the game' is received by AB Devillers and J Theron.\n",
    "- ->Mumbai Indians is the team,won maximum times in the Ipl History i.e almost 15% and least time chennai super kings ie.13.24%.\n",
    "- ->Most of the teams won,when they won the toss and choice to field ->Match Result is declared mostly on the basis of Wickets. \n",
    "- ->less number of matches which are tied \n",
    "- ->winning percentage with their venue/home town is less then 15%,the highest % of wins with respect to venue the team is Kolkata Knight Riders\n",
    "- ->Outoff Total matches,these is the data on the basis of their result runs 366 tie 13 wickets 437\n",
    "- ->on the Toss decision bat 320 field 496"
   ]
  },
  {
   "cell_type": "markdown",
   "id": "continent-scoop",
   "metadata": {},
   "source": [
    "# Result"
   ]
  },
  {
   "cell_type": "markdown",
   "id": "infectious-mandate",
   "metadata": {},
   "source": [
    "\n",
    "->After my analysis the strategy of the team must be with respect to the toss, if they win toss and in case if they choose to field the chances of winning the match is more(60-70)%. ->When they will come to bat they should try to hold the wickets. ->Chances of winning with respect venue is very low,we'll not consider it. ->In case if they losses toss,then at the time of batting make runs as much as possible by holding wickets also"
   ]
  },
  {
   "cell_type": "code",
   "execution_count": null,
   "id": "american-segment",
   "metadata": {},
   "outputs": [],
   "source": []
  },
  {
   "cell_type": "code",
   "execution_count": null,
   "id": "engaging-workplace",
   "metadata": {},
   "outputs": [],
   "source": []
  },
  {
   "cell_type": "code",
   "execution_count": null,
   "id": "characteristic-variance",
   "metadata": {},
   "outputs": [],
   "source": []
  },
  {
   "cell_type": "code",
   "execution_count": null,
   "id": "owned-power",
   "metadata": {},
   "outputs": [],
   "source": []
  }
 ],
 "metadata": {
  "kernelspec": {
   "display_name": "Python 3",
   "language": "python",
   "name": "python3"
  },
  "language_info": {
   "codemirror_mode": {
    "name": "ipython",
    "version": 3
   },
   "file_extension": ".py",
   "mimetype": "text/x-python",
   "name": "python",
   "nbconvert_exporter": "python",
   "pygments_lexer": "ipython3",
   "version": "3.9.2"
  }
 },
 "nbformat": 4,
 "nbformat_minor": 5
}
